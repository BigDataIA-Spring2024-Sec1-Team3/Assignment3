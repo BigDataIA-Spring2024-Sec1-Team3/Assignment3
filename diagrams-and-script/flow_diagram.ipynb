{
 "cells": [
  {
   "cell_type": "markdown",
   "metadata": {},
   "source": [
    "## IMPORT LIBRARIES"
   ]
  },
  {
   "cell_type": "code",
   "execution_count": 26,
   "metadata": {},
   "outputs": [],
   "source": [
    "from diagrams import Diagram, Cluster, Edge\n",
    "from diagrams.programming.language import Python\n",
    "from diagrams.custom import Custom\n",
    "from diagrams.aws.storage import S3\n",
    "from diagrams.generic.database import SQL\n",
    "from diagrams.saas.analytics import Snowflake\n",
    "from diagrams.generic.storage import Storage\n",
    "from diagrams.onprem.analytics import Dbt"
   ]
  },
  {
   "cell_type": "code",
   "execution_count": 44,
   "metadata": {},
   "outputs": [],
   "source": [
    "# Adjust these Graphviz attributes to increase diagram size, node spacing, etc.\n",
    "graph_attr = {\n",
    "    \"fontsize\": \"11\"\n",
    "}\n",
    "\n",
    "filename = \"flow_diagram\""
   ]
  },
  {
   "cell_type": "markdown",
   "metadata": {},
   "source": [
    "## FLOW DIAGRAM CREATION"
   ]
  },
  {
   "cell_type": "code",
   "execution_count": 71,
   "metadata": {},
   "outputs": [],
   "source": [
    "def create_flow_diagram():\n",
    "    try:\n",
    "        with Diagram(\"Flow Diagram\", filename=filename, show=False, direction=\"LR\", graph_attr=graph_attr):\n",
    "            \n",
    "            with Cluster(\"Extract\"):\n",
    "                loader_1 = Storage(\"CSV File\")\n",
    "                loader_2 = Custom(\"XML File\", \"./input_icons/xml.png\")\n",
    "                pydantic_validator = Python(\"\\nPydantic Validation & PyTest\")\n",
    "                local_storage = Storage(\"\\nClean CSV\")\n",
    "                \n",
    "            with Cluster(\"Load\"):\n",
    "                snowflake = Snowflake(\"Snowflake\")\n",
    "\n",
    "            with Cluster(\"Transform\"):\n",
    "                dbt = Dbt(\"DBT\")\n",
    "            \n",
    "            snowflake_DB_1 = Snowflake(\"Test DB\")\n",
    "            snowflake_DB_2 = Snowflake(\"Prod DB\")\n",
    "    \n",
    "            loader_1 >> Edge(label = \"\\n\\n\\n\\n\\nData Extraction from CSV file\") >> pydantic_validator\n",
    "            loader_2 >> Edge(label = \"\\n\\n\\nData Extraction using Grobid Data Loader\") >> pydantic_validator \n",
    "\n",
    "            pydantic_validator >> local_storage\n",
    "\n",
    "            local_storage >> snowflake\n",
    "\n",
    "            snowflake >> dbt\n",
    "\n",
    "            dbt >> snowflake_DB_1\n",
    "            dbt >> snowflake_DB_2\n",
    "\n",
    "    except Exception as e:\n",
    "        print(\"Exception: \",e)\n",
    "    "
   ]
  },
  {
   "cell_type": "code",
   "execution_count": 72,
   "metadata": {},
   "outputs": [],
   "source": [
    "create_flow_diagram()"
   ]
  }
 ],
 "metadata": {
  "kernelspec": {
   "display_name": "Python 3",
   "language": "python",
   "name": "python3"
  },
  "language_info": {
   "codemirror_mode": {
    "name": "ipython",
    "version": 3
   },
   "file_extension": ".py",
   "mimetype": "text/x-python",
   "name": "python",
   "nbconvert_exporter": "python",
   "pygments_lexer": "ipython3",
   "version": "3.11.4"
  }
 },
 "nbformat": 4,
 "nbformat_minor": 2
}
